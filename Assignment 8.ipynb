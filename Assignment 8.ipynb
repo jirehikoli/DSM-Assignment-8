{
 "cells": [
  {
   "cell_type": "markdown",
   "metadata": {},
   "source": [
    "1) "
   ]
  },
  {
   "cell_type": "code",
   "execution_count": 5,
   "metadata": {},
   "outputs": [],
   "source": [
    "import pandas as pd\n",
    "df = pd.DataFrame({'X': [7, 2, 0, 3, 4, 2, 5, 0, 3, 4]})\n",
    "df['Y'] = [x for x in df['X']]\n",
    "count=0\n",
    "for i in range(len(df)):\n",
    "    if df['X'].loc[i]==0:\n",
    "        count=0\n",
    "    else:\n",
    "        count+=1\n",
    "        df.loc[i,'Y']=count  "
   ]
  },
  {
   "cell_type": "code",
   "execution_count": 6,
   "metadata": {},
   "outputs": [
    {
     "data": {
      "text/html": [
       "<div>\n",
       "<style scoped>\n",
       "    .dataframe tbody tr th:only-of-type {\n",
       "        vertical-align: middle;\n",
       "    }\n",
       "\n",
       "    .dataframe tbody tr th {\n",
       "        vertical-align: top;\n",
       "    }\n",
       "\n",
       "    .dataframe thead th {\n",
       "        text-align: right;\n",
       "    }\n",
       "</style>\n",
       "<table border=\"1\" class=\"dataframe\">\n",
       "  <thead>\n",
       "    <tr style=\"text-align: right;\">\n",
       "      <th></th>\n",
       "      <th>X</th>\n",
       "      <th>Y</th>\n",
       "    </tr>\n",
       "  </thead>\n",
       "  <tbody>\n",
       "    <tr>\n",
       "      <th>0</th>\n",
       "      <td>7</td>\n",
       "      <td>1</td>\n",
       "    </tr>\n",
       "    <tr>\n",
       "      <th>1</th>\n",
       "      <td>2</td>\n",
       "      <td>2</td>\n",
       "    </tr>\n",
       "    <tr>\n",
       "      <th>2</th>\n",
       "      <td>0</td>\n",
       "      <td>0</td>\n",
       "    </tr>\n",
       "    <tr>\n",
       "      <th>3</th>\n",
       "      <td>3</td>\n",
       "      <td>1</td>\n",
       "    </tr>\n",
       "    <tr>\n",
       "      <th>4</th>\n",
       "      <td>4</td>\n",
       "      <td>2</td>\n",
       "    </tr>\n",
       "    <tr>\n",
       "      <th>5</th>\n",
       "      <td>2</td>\n",
       "      <td>3</td>\n",
       "    </tr>\n",
       "    <tr>\n",
       "      <th>6</th>\n",
       "      <td>5</td>\n",
       "      <td>4</td>\n",
       "    </tr>\n",
       "    <tr>\n",
       "      <th>7</th>\n",
       "      <td>0</td>\n",
       "      <td>0</td>\n",
       "    </tr>\n",
       "    <tr>\n",
       "      <th>8</th>\n",
       "      <td>3</td>\n",
       "      <td>1</td>\n",
       "    </tr>\n",
       "    <tr>\n",
       "      <th>9</th>\n",
       "      <td>4</td>\n",
       "      <td>2</td>\n",
       "    </tr>\n",
       "  </tbody>\n",
       "</table>\n",
       "</div>"
      ],
      "text/plain": [
       "   X  Y\n",
       "0  7  1\n",
       "1  2  2\n",
       "2  0  0\n",
       "3  3  1\n",
       "4  4  2\n",
       "5  2  3\n",
       "6  5  4\n",
       "7  0  0\n",
       "8  3  1\n",
       "9  4  2"
      ]
     },
     "execution_count": 6,
     "metadata": {},
     "output_type": "execute_result"
    }
   ],
   "source": [
    "df"
   ]
  },
  {
   "cell_type": "markdown",
   "metadata": {},
   "source": [
    "2) "
   ]
  },
  {
   "cell_type": "code",
   "execution_count": 1,
   "metadata": {},
   "outputs": [],
   "source": [
    "import pandas as pd\n",
    "import numpy as np\n",
    "\n",
    "start = pd.datetime(2015, 1, 1)\n",
    "end = pd.datetime(2015, 12, 31)\n",
    "\n",
    "rng = pd.date_range(start,end, freq='B')\n",
    "ts = pd.Series(np.random.randn(len(rng)), index=rng)"
   ]
  },
  {
   "cell_type": "code",
   "execution_count": 5,
   "metadata": {},
   "outputs": [
    {
     "data": {
      "text/plain": [
       "2015-01-01   -1.011144\n",
       "2015-01-02    1.649726\n",
       "2015-01-05    1.173737\n",
       "2015-01-06    0.968814\n",
       "2015-01-07   -0.901036\n",
       "2015-01-08   -0.569063\n",
       "2015-01-09    0.470190\n",
       "2015-01-12   -1.474857\n",
       "2015-01-13    1.293370\n",
       "2015-01-14    0.549347\n",
       "2015-01-15   -0.300279\n",
       "2015-01-16   -0.373834\n",
       "2015-01-19    0.951061\n",
       "2015-01-20   -0.324661\n",
       "2015-01-21   -0.392411\n",
       "2015-01-22    0.397609\n",
       "2015-01-23   -0.646592\n",
       "2015-01-26   -0.943820\n",
       "2015-01-27   -1.008176\n",
       "2015-01-28   -0.182642\n",
       "2015-01-29    1.122589\n",
       "2015-01-30    0.827282\n",
       "2015-02-02    0.572556\n",
       "2015-02-03    1.156570\n",
       "2015-02-04   -0.331572\n",
       "2015-02-05   -0.886003\n",
       "2015-02-06    0.535893\n",
       "2015-02-09    0.392200\n",
       "2015-02-10    0.660201\n",
       "2015-02-11    0.299958\n",
       "                ...   \n",
       "2015-11-20    0.339905\n",
       "2015-11-23    0.246092\n",
       "2015-11-24   -0.072289\n",
       "2015-11-25   -1.258858\n",
       "2015-11-26   -0.569456\n",
       "2015-11-27   -2.338371\n",
       "2015-11-30   -0.598080\n",
       "2015-12-01   -2.946457\n",
       "2015-12-02   -0.578977\n",
       "2015-12-03    0.331238\n",
       "2015-12-04   -0.572945\n",
       "2015-12-07   -0.395608\n",
       "2015-12-08   -0.090953\n",
       "2015-12-09    2.352554\n",
       "2015-12-10   -1.239055\n",
       "2015-12-11   -0.206904\n",
       "2015-12-14   -0.150540\n",
       "2015-12-15   -1.596265\n",
       "2015-12-16   -0.887874\n",
       "2015-12-17    1.353338\n",
       "2015-12-18   -1.136683\n",
       "2015-12-21    1.295838\n",
       "2015-12-22    1.322198\n",
       "2015-12-23   -0.725290\n",
       "2015-12-24    1.202919\n",
       "2015-12-25    0.627557\n",
       "2015-12-28   -1.628981\n",
       "2015-12-29    1.052938\n",
       "2015-12-30   -0.419898\n",
       "2015-12-31    1.126676\n",
       "Freq: B, Length: 261, dtype: float64"
      ]
     },
     "execution_count": 5,
     "metadata": {},
     "output_type": "execute_result"
    }
   ],
   "source": [
    "ts"
   ]
  },
  {
   "cell_type": "markdown",
   "metadata": {},
   "source": [
    "3) Find the sum of the values in s for every Wednesday"
   ]
  },
  {
   "cell_type": "code",
   "execution_count": 6,
   "metadata": {},
   "outputs": [
    {
     "name": "stdout",
     "output_type": "stream",
     "text": [
      "10.135775998926443\n"
     ]
    }
   ],
   "source": [
    "sum=0\n",
    "for i in range(4,262,5):\n",
    "    sum+=ts[i]\n",
    "print(sum)"
   ]
  },
  {
   "cell_type": "markdown",
   "metadata": {},
   "source": [
    "4) Average For each calendar month"
   ]
  },
  {
   "cell_type": "code",
   "execution_count": 9,
   "metadata": {},
   "outputs": [
    {
     "data": {
      "text/plain": [
       "2015-01-31    1.275209\n",
       "2015-02-28    6.450861\n",
       "2015-03-31   -6.508596\n",
       "2015-04-30    7.119522\n",
       "2015-05-31    0.662328\n",
       "2015-06-30    0.955787\n",
       "2015-07-31   -4.144479\n",
       "2015-08-31    4.510279\n",
       "2015-09-30    3.383438\n",
       "2015-10-31    4.490765\n",
       "2015-11-30   -5.926344\n",
       "2015-12-31   -1.911172\n",
       "Freq: M, dtype: float64"
      ]
     },
     "execution_count": 9,
     "metadata": {},
     "output_type": "execute_result"
    }
   ],
   "source": [
    "ts.resample('M').sum()"
   ]
  }
 ],
 "metadata": {
  "kernelspec": {
   "display_name": "Python 3",
   "language": "python",
   "name": "python3"
  },
  "language_info": {
   "codemirror_mode": {
    "name": "ipython",
    "version": 3
   },
   "file_extension": ".py",
   "mimetype": "text/x-python",
   "name": "python",
   "nbconvert_exporter": "python",
   "pygments_lexer": "ipython3",
   "version": "3.6.5"
  }
 },
 "nbformat": 4,
 "nbformat_minor": 2
}
